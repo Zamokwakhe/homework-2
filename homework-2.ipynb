{
 "metadata": {
  "name": "",
  "signature": "sha256:9dfda739908ea22124643fc960d2282b1403365ec5fde643381964e86aed6963"
 },
 "nbformat": 3,
 "nbformat_minor": 0,
 "worksheets": [
  {
   "cells": [
    {
     "cell_type": "markdown",
     "metadata": {},
     "source": [
      "# Set Up\n",
      "\n",
      "This homework will be turned in via a bitbucket repository. Start by making a new repository named `homework-2` in bitbucket. You must make this a _public_ repository. **Make sure it is public!**\n",
      "\n",
      "Navigate to your home directory and clone the repository.\n",
      "\n",
      "    cd\n",
      "    git clone git@bitbucket.org:mgidden/homework-2\n",
      "    \n",
      "Now, instead of using _my_ remote, we will change it to use _your_ remote. Replace all instances of `<your username>` with your bitbucket user name.\n",
      "\n",
      "    cd homework-2\n",
      "    git remote rm origin\n",
      "    git remote add origin git@bitbucket.org:<your username>/homework-2\n",
      "    git push origin master\n",
      "\n",
      "## Working on the Assignment\n",
      "\n",
      "You should do all of your work **in the homework-2 directory**. Navigate to the directory and start IPython notebook there.\n",
      "\n",
      "    cd ~/homework-2\n",
      "    ipython notebook\n",
      "\n",
      "You will be creating new files in the assignment. You will also be changing and updating files. Make sure to update your repository frequently by \n",
      "\n",
      "- `git add`ing updated files\n",
      "- `git commit`ing with an appropriate message and \n",
      "- `git push`ing them to your bitbucket repository.\n",
      "\n",
      "## Turning in the Assignment\n",
      "\n",
      "The tutors will send out an email to turn in the assignment. Respond to that email with the git command to clone your finished assignment. The command should clone your repository into a new folder named `<your username>`. For example, my turn-in email would have the following line\n",
      "\n",
      "    git clone git@bitbucket.org:mgidden/homework-2 mgidden\n",
      "    \n",
      "because my bitbucket username is `mgidden`.\n",
      "\n"
     ]
    },
    {
     "cell_type": "markdown",
     "metadata": {},
     "source": [
      "# Exercise 1: The Shell\n",
      "\n",
      "You can execute shell commands in IPython by prefixing them with an exclamation point (`!`). For example, we can look at all the files in the `bert` directory"
     ]
    },
    {
     "cell_type": "code",
     "collapsed": false,
     "input": [
      "!ls data/bert/*"
     ],
     "language": "python",
     "metadata": {},
     "outputs": []
    },
    {
     "cell_type": "markdown",
     "metadata": {},
     "source": [
      "You are free to perform this exercise in the terminal, but you must turn in this notebook with the appropriate commands. The tutors will execute only this notebook.\n",
      "\n",
      "## wc\n",
      "\n",
      "The `wc` program (word count) counts the number of lines, words, and\n",
      "characters in one or more files. \n",
      "\n",
      "Execute the `wc` command on the file `audioresult-00317` in the `data/bert`"
     ]
    },
    {
     "cell_type": "code",
     "collapsed": false,
     "input": [],
     "language": "python",
     "metadata": {},
     "outputs": []
    },
    {
     "cell_type": "markdown",
     "metadata": {},
     "source": [
      "There are three numbers, what do each of them mean?"
     ]
    },
    {
     "cell_type": "markdown",
     "metadata": {},
     "source": []
    },
    {
     "cell_type": "markdown",
     "metadata": {},
     "source": [
      "Which file in `data/bert` has the longest number of lines?"
     ]
    },
    {
     "cell_type": "code",
     "collapsed": false,
     "input": [],
     "language": "python",
     "metadata": {},
     "outputs": []
    },
    {
     "cell_type": "markdown",
     "metadata": {},
     "source": [
      "Which file in `data/bert` has the second smallest number of lines?"
     ]
    },
    {
     "cell_type": "code",
     "collapsed": false,
     "input": [],
     "language": "python",
     "metadata": {},
     "outputs": []
    },
    {
     "cell_type": "markdown",
     "metadata": {},
     "source": [
      "## Collecting Data\n",
      "\n",
      "Combine all of the data found in `bert`, `lawrence`, and `alexander` into one file named `all_data`. This file should reside in the `data` directory."
     ]
    },
    {
     "cell_type": "code",
     "collapsed": false,
     "input": [],
     "language": "python",
     "metadata": {},
     "outputs": []
    },
    {
     "cell_type": "markdown",
     "metadata": {},
     "source": [
      "Create a backup file of `all_data` named `all_data.save`"
     ]
    },
    {
     "cell_type": "code",
     "collapsed": false,
     "input": [],
     "language": "python",
     "metadata": {},
     "outputs": []
    },
    {
     "cell_type": "markdown",
     "metadata": {},
     "source": [
      "Add all of the data in the `frank_richard` directory to the `all_data` file."
     ]
    },
    {
     "cell_type": "code",
     "collapsed": false,
     "input": [],
     "language": "python",
     "metadata": {},
     "outputs": []
    },
    {
     "cell_type": "markdown",
     "metadata": {},
     "source": [
      "Delete the backup file"
     ]
    },
    {
     "cell_type": "code",
     "collapsed": false,
     "input": [],
     "language": "python",
     "metadata": {},
     "outputs": []
    },
    {
     "cell_type": "markdown",
     "metadata": {},
     "source": [
      "## Analyzing Data\n",
      "\n",
      "How many lines are there in `all_data`?"
     ]
    },
    {
     "cell_type": "code",
     "collapsed": false,
     "input": [],
     "language": "python",
     "metadata": {},
     "outputs": []
    },
    {
     "cell_type": "markdown",
     "metadata": {},
     "source": [
      "What is the length of the logest line? Hint: It might help to look at `wc`'s documentation.."
     ]
    },
    {
     "cell_type": "code",
     "collapsed": false,
     "input": [],
     "language": "python",
     "metadata": {},
     "outputs": []
    },
    {
     "cell_type": "markdown",
     "metadata": {},
     "source": [
      "How many total subjects are included in this dataset?"
     ]
    },
    {
     "cell_type": "code",
     "collapsed": false,
     "input": [],
     "language": "python",
     "metadata": {},
     "outputs": []
    },
    {
     "cell_type": "markdown",
     "metadata": {},
     "source": [
      "How many subjects reported their findings on Sunday?"
     ]
    },
    {
     "cell_type": "code",
     "collapsed": false,
     "input": [],
     "language": "python",
     "metadata": {},
     "outputs": []
    },
    {
     "cell_type": "markdown",
     "metadata": {},
     "source": [
      "How many subjects were male?"
     ]
    },
    {
     "cell_type": "code",
     "collapsed": false,
     "input": [],
     "language": "python",
     "metadata": {},
     "outputs": []
    },
    {
     "cell_type": "markdown",
     "metadata": {},
     "source": [
      "What was the largest Volume experienced by any subject?"
     ]
    },
    {
     "cell_type": "code",
     "collapsed": false,
     "input": [],
     "language": "python",
     "metadata": {},
     "outputs": []
    },
    {
     "cell_type": "markdown",
     "metadata": {},
     "source": [
      "What was the smallest Volume experience by any subject?"
     ]
    },
    {
     "cell_type": "code",
     "collapsed": false,
     "input": [],
     "language": "python",
     "metadata": {},
     "outputs": []
    },
    {
     "cell_type": "markdown",
     "metadata": {},
     "source": [
      "# Exercise 2: Functions and Tests\n",
      "\n",
      "Create a file named `aims.py` in this directory. Make the file print the phrase \"Welcome to AIMS math module\" if the file is run from the command line. If the file is `import`ed, it should print nothing."
     ]
    },
    {
     "cell_type": "code",
     "collapsed": false,
     "input": [
      "%run aims.py"
     ],
     "language": "python",
     "metadata": {},
     "outputs": []
    },
    {
     "cell_type": "code",
     "collapsed": false,
     "input": [
      "import aims"
     ],
     "language": "python",
     "metadata": {},
     "outputs": []
    },
    {
     "cell_type": "markdown",
     "metadata": {},
     "source": [
      "## `std()`\n",
      "\n",
      "Add a `std()` function to `aims.py`. The function should take a list of numbers as an argument and return the standard deviation of those numbers. \n",
      "\n",
      "Remember that the definition of `std` is\n",
      "\n",
      "<img src='std.png'>\n",
      "\n",
      "Does it work?"
     ]
    },
    {
     "cell_type": "code",
     "collapsed": false,
     "input": [
      "import aims\n",
      "assert aims.std([2, 2]) == 0"
     ],
     "language": "python",
     "metadata": {},
     "outputs": []
    },
    {
     "cell_type": "markdown",
     "metadata": {},
     "source": [
      "Create a new file named `aims_tests.py`. Add at least 4 unit tests for the `std()` function. If one of your tests fails, update your function until it passes."
     ]
    },
    {
     "cell_type": "code",
     "collapsed": false,
     "input": [
      "!nosetests"
     ],
     "language": "python",
     "metadata": {},
     "outputs": []
    },
    {
     "cell_type": "markdown",
     "metadata": {},
     "source": [
      "Make sure you've done your best to test your function for corner cases! The tutors will add additional tests to make sure your function is correct."
     ]
    },
    {
     "cell_type": "markdown",
     "metadata": {},
     "source": [
      "## Average Range\n",
      "\n",
      "Add a new function named `avg_range()` to `aims.py` that will read a series of data files from our datasets and return the average `Range` value. The function should take as an argument a `list` of _filenames_. \n",
      "\n",
      "You will likely find the `open()` and `close()` functions useful as well as a number of string methods that we have covered in class.\n",
      "\n",
      "For example, let's look at "
     ]
    },
    {
     "cell_type": "code",
     "collapsed": false,
     "input": [
      "!cat data/bert/audioresult-00215"
     ],
     "language": "python",
     "metadata": {},
     "outputs": []
    },
    {
     "cell_type": "markdown",
     "metadata": {},
     "source": [
      "Your `avg_range()` function will have the right signature if the following is true:"
     ]
    },
    {
     "cell_type": "code",
     "collapsed": false,
     "input": [
      "import aims\n",
      "assert aims.avg_range(['data/bert/audioresult-00215']) == 5"
     ],
     "language": "python",
     "metadata": {},
     "outputs": []
    },
    {
     "cell_type": "markdown",
     "metadata": {},
     "source": [
      "Add at least 3 unit tests to `test_aims.py` for your `avg_range()` function. Confirm that they pass."
     ]
    },
    {
     "cell_type": "code",
     "collapsed": false,
     "input": [
      "!nosetests"
     ],
     "language": "python",
     "metadata": {},
     "outputs": []
    },
    {
     "cell_type": "markdown",
     "metadata": {},
     "source": [
      "Again, make sure you've done your best to test your function for corner cases! The tutors will add additional tests to make sure your function is correct."
     ]
    },
    {
     "cell_type": "markdown",
     "metadata": {},
     "source": [
      "# Turning in your Homework\n",
      "\n",
      "Remeber that the tutors will access your homework through bitbucket. Make sure you `git add` all the files you want them to see (make sure you save your notebook and scripts before `git add`ing!). Then `git commit` and `git push` to your repository. Finally, respond to the turn-in email with the appropriate `git clone` command."
     ]
    }
   ],
   "metadata": {}
  }
 ]
}