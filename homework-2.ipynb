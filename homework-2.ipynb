{
 "metadata": {
  "name": "",
  "signature": "sha256:888a8e56483c3722775c87bb39cff2f91ad72090eaa9b3b1922b98cef5a0d2ac"
 },
 "nbformat": 3,
 "nbformat_minor": 0,
 "worksheets": [
  {
   "cells": [
    {
     "cell_type": "markdown",
     "metadata": {},
     "source": [
      "# Set Up\n",
      "\n",
      "This homework will be turned in via a bitbucket repository. \n",
      "\n",
      "Start by _creating_ a new repository named `homework-2` in your bitbucket like we did in class. You must make this a _public_ repository. **Make sure it is public!**\n",
      "\n",
      "Navigate to your home directory and clone _my_ repository.\n",
      "\n",
      "    cd\n",
      "    git clone git@bitbucket.org:mgidden/homework-2\n",
      "    \n",
      "Now, instead of using _my_ remote, we will change it to use _your_ remote. Replace all instances of `<your username>` with your bitbucket user name.\n",
      "\n",
      "    cd homework-2\n",
      "    git remote rm origin\n",
      "    git remote add origin git@bitbucket.org:<your username>/homework-2\n",
      "    git push origin master\n",
      "\n",
      "## Working on the Assignment\n",
      "\n",
      "You should do all of your work **in the homework-2 directory**. Navigate to the directory and start IPython notebook there.\n",
      "\n",
      "    cd ~/homework-2\n",
      "    ipython notebook\n",
      "\n",
      "You will be creating new files in the assignment. You will also be changing and updating files. Make sure to update your repository frequently by \n",
      "\n",
      "- `git add`ing updated files\n",
      "- `git commit`ing with an appropriate message and \n",
      "- `git push`ing them to your bitbucket repository.\n",
      "\n",
      "## Turning in the Assignment\n",
      "\n",
      "The tutors will send out an email to turn in the assignment. Respond to that email with the git command to clone your finished assignment. The command should clone your repository into a new folder named `<your username>`. \n",
      "\n",
      "    git clone git@bitbucket.org:<your username>/homework-2 <your username>\n",
      "\n",
      "For example, my turn-in email would have the following line\n",
      "\n",
      "    git clone git@bitbucket.org:mgidden/homework-2 mgidden\n",
      "    \n",
      "because my bitbucket username is `mgidden`.\n",
      "\n"
     ]
    },
    {
     "cell_type": "markdown",
     "metadata": {},
     "source": [
      "# Exercise 1: The Shell\n",
      "\n",
      "You can execute shell commands in IPython by prefixing them with an exclamation point (`!`). For example, we can look at all the files in the `bert` directory"
     ]
    },
    {
     "cell_type": "code",
     "collapsed": false,
     "input": [
      "!ls data/bert/*"
     ],
     "language": "python",
     "metadata": {},
     "outputs": [
      {
       "output_type": "stream",
       "stream": "stdout",
       "text": [
        "data/bert/audioresult-00215  data/bert/audioresult-00384\r\n",
        "data/bert/audioresult-00222  data/bert/audioresult-00386\r\n",
        "data/bert/audioresult-00223  data/bert/audioresult-00393\r\n",
        "data/bert/audioresult-00235  data/bert/audioresult-00412\r\n",
        "data/bert/audioresult-00239  data/bert/audioresult-00416\r\n",
        "data/bert/audioresult-00246  data/bert/audioresult-00422\r\n",
        "data/bert/audioresult-00265  data/bert/audioresult-00443\r\n",
        "data/bert/audioresult-00267  data/bert/audioresult-00445\r\n",
        "data/bert/audioresult-00270  data/bert/audioresult-00451\r\n",
        "data/bert/audioresult-00286  data/bert/audioresult-00453\r\n",
        "data/bert/audioresult-00304  data/bert/audioresult-00460\r\n",
        "data/bert/audioresult-00317  data/bert/audioresult-00466\r\n",
        "data/bert/audioresult-00319  data/bert/audioresult-00470\r\n",
        "data/bert/audioresult-00320  data/bert/audioresult-00472\r\n",
        "data/bert/audioresult-00321  data/bert/audioresult-00490\r\n",
        "data/bert/audioresult-00330  data/bert/audioresult-00493\r\n",
        "data/bert/audioresult-00332  data/bert/audioresult-00497\r\n",
        "data/bert/audioresult-00350  data/bert/audioresult-00518\r\n",
        "data/bert/audioresult-00353  data/bert/audioresult-00521\r\n",
        "data/bert/audioresult-00355  data/bert/audioresult-00532\r\n",
        "data/bert/audioresult-00359  data/bert/audioresult-00534\r\n",
        "data/bert/audioresult-00372  data/bert/audioresult-00535\r\n",
        "data/bert/audioresult-00377  data/bert/audioresult-00557\r\n",
        "data/bert/audioresult-00380\r\n"
       ]
      }
     ],
     "prompt_number": 1
    },
    {
     "cell_type": "markdown",
     "metadata": {},
     "source": [
      "You are free to perform this exercise in the terminal, but you must turn in this notebook with the appropriate commands. The tutors will execute only this notebook.\n",
      "\n",
      "## wc\n",
      "\n",
      "The `wc` (word count) program provides information about the amount of text in files. \n",
      "\n",
      "Execute the `wc` command on the file `audioresult-00317` in the `data/bert`"
     ]
    },
    {
     "cell_type": "code",
     "collapsed": false,
     "input": [
      "!wc data/bert/audioresult-00317"
     ],
     "language": "python",
     "metadata": {},
     "outputs": [
      {
       "output_type": "stream",
       "stream": "stdout",
       "text": [
        "  9  24 147 data/bert/audioresult-00317\r\n"
       ]
      }
     ],
     "prompt_number": 2
    },
    {
     "cell_type": "markdown",
     "metadata": {},
     "source": [
      "There are three numbers, what do each of them mean?\n",
      "\n",
      "Answer:\n",
      "number of lines\n",
      "number of words\n",
      "number of characters"
     ]
    },
    {
     "cell_type": "markdown",
     "metadata": {},
     "source": []
    },
    {
     "cell_type": "markdown",
     "metadata": {},
     "source": [
      "Which file in `data/bert` has the fewest characters?"
     ]
    },
    {
     "cell_type": "code",
     "collapsed": false,
     "input": [
      "!wc -c data/bert/* | sort -k 1 -n | head -n 1 "
     ],
     "language": "python",
     "metadata": {},
     "outputs": [
      {
       "output_type": "stream",
       "stream": "stdout",
       "text": [
        " 142 data/bert/audioresult-00493\r\n"
       ]
      }
     ],
     "prompt_number": 3
    },
    {
     "cell_type": "markdown",
     "metadata": {},
     "source": [
      "Which file in `data/bert` has the most characters?"
     ]
    },
    {
     "cell_type": "code",
     "collapsed": false,
     "input": [
      "!wc -c data/bert/* | sort -k 1 -n | tail -n 2 | head -n 1"
     ],
     "language": "python",
     "metadata": {},
     "outputs": [
      {
       "output_type": "stream",
       "stream": "stdout",
       "text": [
        " 152 data/bert/audioresult-00353\r\n"
       ]
      }
     ],
     "prompt_number": 4
    },
    {
     "cell_type": "markdown",
     "metadata": {},
     "source": [
      "## Collecting Data\n",
      "\n",
      "Combine all of the data found in `bert`, `lawrence`, and `alexander` into one file named `all_data`. This file should reside in the `data` directory."
     ]
    },
    {
     "cell_type": "code",
     "collapsed": false,
     "input": [
      "cat data/bert/*  > data/all_data | cat data/lawrence/* >> data/all_data | cat data/alexander/* >> data/all_data"
     ],
     "language": "python",
     "metadata": {},
     "outputs": [],
     "prompt_number": 5
    },
    {
     "cell_type": "markdown",
     "metadata": {},
     "source": [
      "Create a backup file of `all_data` named `all_data.save`"
     ]
    },
    {
     "cell_type": "code",
     "collapsed": false,
     "input": [
      "cp data/all_data data/all_data_save"
     ],
     "language": "python",
     "metadata": {},
     "outputs": [],
     "prompt_number": 6
    },
    {
     "cell_type": "markdown",
     "metadata": {},
     "source": [
      "Add all of the data in the `frank_richard` directory to the `all_data` file."
     ]
    },
    {
     "cell_type": "code",
     "collapsed": false,
     "input": [
      "cat data/frank_richard/* >> data/all_data"
     ],
     "language": "python",
     "metadata": {},
     "outputs": [],
     "prompt_number": 7
    },
    {
     "cell_type": "markdown",
     "metadata": {},
     "source": [
      "Delete the backup file"
     ]
    },
    {
     "cell_type": "code",
     "collapsed": false,
     "input": [
      "rm -f data/all_data.save"
     ],
     "language": "python",
     "metadata": {},
     "outputs": [],
     "prompt_number": 8
    },
    {
     "cell_type": "code",
     "collapsed": false,
     "input": [
      "rm -f data/all_data_save"
     ],
     "language": "python",
     "metadata": {},
     "outputs": [],
     "prompt_number": 9
    },
    {
     "cell_type": "code",
     "collapsed": false,
     "input": [
      "!ls data"
     ],
     "language": "python",
     "metadata": {},
     "outputs": [
      {
       "output_type": "stream",
       "stream": "stdout",
       "text": [
        "alexander  bert\t\t  gerdal\t       jamesm\t thomas\r\n",
        "all_data   frank_richard  inflammation-01.csv  lawrence\r\n"
       ]
      }
     ],
     "prompt_number": 10
    },
    {
     "cell_type": "markdown",
     "metadata": {},
     "source": [
      "## Analyzing Data\n",
      "\n",
      "How many lines are there in `all_data`?"
     ]
    },
    {
     "cell_type": "code",
     "collapsed": false,
     "input": [
      "!wc -l data/all_data"
     ],
     "language": "python",
     "metadata": {},
     "outputs": [
      {
       "output_type": "stream",
       "stream": "stdout",
       "text": [
        "1135 data/all_data\r\n"
       ]
      }
     ],
     "prompt_number": 12
    },
    {
     "cell_type": "markdown",
     "metadata": {},
     "source": [
      "What is the length of the longest line? Hint: It might help to look at `wc`'s documentation.."
     ]
    },
    {
     "cell_type": "code",
     "collapsed": false,
     "input": [
      "!wc -L data/all_data"
     ],
     "language": "python",
     "metadata": {},
     "outputs": [
      {
       "output_type": "stream",
       "stream": "stdout",
       "text": [
        "48 data/all_data\r\n"
       ]
      }
     ],
     "prompt_number": 13
    },
    {
     "cell_type": "markdown",
     "metadata": {},
     "source": [
      "How many total subjects are included in this dataset?"
     ]
    },
    {
     "cell_type": "code",
     "collapsed": false,
     "input": [],
     "language": "python",
     "metadata": {},
     "outputs": []
    },
    {
     "cell_type": "markdown",
     "metadata": {},
     "source": [
      "How many subjects reported their findings on Sunday?"
     ]
    },
    {
     "cell_type": "code",
     "collapsed": false,
     "input": [],
     "language": "python",
     "metadata": {},
     "outputs": []
    },
    {
     "cell_type": "markdown",
     "metadata": {},
     "source": [
      "How many subjects were male?"
     ]
    },
    {
     "cell_type": "code",
     "collapsed": false,
     "input": [],
     "language": "python",
     "metadata": {},
     "outputs": []
    },
    {
     "cell_type": "markdown",
     "metadata": {},
     "source": [
      "What was the largest Volume experienced by any subject?"
     ]
    },
    {
     "cell_type": "code",
     "collapsed": false,
     "input": [],
     "language": "python",
     "metadata": {},
     "outputs": []
    },
    {
     "cell_type": "markdown",
     "metadata": {},
     "source": [
      "What was the smallest Volume experience by any subject?"
     ]
    },
    {
     "cell_type": "code",
     "collapsed": false,
     "input": [],
     "language": "python",
     "metadata": {},
     "outputs": []
    },
    {
     "cell_type": "markdown",
     "metadata": {},
     "source": [
      "# Exercise 2: Functions and Tests\n",
      "\n",
      "Create a file named `aims.py` in this directory. Make the file print the phrase \"Welcome to the AIMS module\" if the file is run from the command line. If the file is `import`ed, it should print nothing."
     ]
    },
    {
     "cell_type": "code",
     "collapsed": false,
     "input": [
      "%run aims.py"
     ],
     "language": "python",
     "metadata": {},
     "outputs": []
    },
    {
     "cell_type": "code",
     "collapsed": false,
     "input": [
      "import aims"
     ],
     "language": "python",
     "metadata": {},
     "outputs": []
    },
    {
     "cell_type": "markdown",
     "metadata": {},
     "source": [
      "## `std()`\n",
      "\n",
      "Add a `std()` function to `aims.py`. The function should take a list of numbers as an argument and return the standard deviation of those numbers. \n",
      "\n",
      "Remember that the definition of `std` is\n",
      "\n",
      "<img src='std.png'>\n",
      "\n",
      "Does it work?"
     ]
    },
    {
     "cell_type": "code",
     "collapsed": false,
     "input": [
      "import aims\n",
      "assert aims.std([2, 2]) == 0"
     ],
     "language": "python",
     "metadata": {},
     "outputs": []
    },
    {
     "cell_type": "markdown",
     "metadata": {},
     "source": [
      "Create a new file named `test_aims.py`. Add at least 4 unit tests for the `std()` function. If one of your tests fails, update your function until it passes."
     ]
    },
    {
     "cell_type": "code",
     "collapsed": false,
     "input": [
      "!nosetests"
     ],
     "language": "python",
     "metadata": {},
     "outputs": []
    },
    {
     "cell_type": "markdown",
     "metadata": {},
     "source": [
      "Make sure you've done your best to test your function for corner cases! The tutors will add additional tests to make sure your function is correct."
     ]
    },
    {
     "cell_type": "markdown",
     "metadata": {},
     "source": [
      "## Average Range\n",
      "\n",
      "Add a new function named `avg_range()` to `aims.py` that will read a series of data files from our datasets and return the average `Range` value. The function should take as an argument a `list` of _filenames_. \n",
      "\n",
      "You will likely find the `open()` and `close()` functions useful as well as a number of string methods that we have covered in class.\n",
      "\n",
      "For example, let's look at "
     ]
    },
    {
     "cell_type": "code",
     "collapsed": false,
     "input": [
      "!cat data/bert/audioresult-00215"
     ],
     "language": "python",
     "metadata": {},
     "outputs": []
    },
    {
     "cell_type": "markdown",
     "metadata": {},
     "source": [
      "Your `avg_range()` function will have the right signature if the following is true:"
     ]
    },
    {
     "cell_type": "code",
     "collapsed": false,
     "input": [
      "import aims\n",
      "print aims.avg_range(['data/bert/audioresult-00215']) == 5"
     ],
     "language": "python",
     "metadata": {},
     "outputs": []
    },
    {
     "cell_type": "markdown",
     "metadata": {},
     "source": [
      "Add at least 3 unit tests to `test_aims.py` for your `avg_range()` function. Confirm that they pass."
     ]
    },
    {
     "cell_type": "code",
     "collapsed": false,
     "input": [
      "!nosetests"
     ],
     "language": "python",
     "metadata": {},
     "outputs": []
    },
    {
     "cell_type": "markdown",
     "metadata": {},
     "source": [
      "Again, make sure you've done your best to test your function for corner cases! The tutors will add additional tests to make sure your function is correct."
     ]
    },
    {
     "cell_type": "markdown",
     "metadata": {},
     "source": [
      "# Turning in your Homework\n",
      "\n",
      "Remeber that the tutors will access your homework through bitbucket. Make sure you `git add` all the files you want them to see (make sure you save your notebook and scripts before `git add`ing!). Then `git commit` and `git push` to your repository. Finally, respond to the turn-in email with the appropriate `git clone` command."
     ]
    }
   ],
   "metadata": {}
  }
 ]
}